{
 "cells": [
  {
   "cell_type": "code",
   "execution_count": 1,
   "metadata": {},
   "outputs": [],
   "source": [
    "from Bio.Seq import Seq"
   ]
  },
  {
   "cell_type": "code",
   "execution_count": 2,
   "metadata": {},
   "outputs": [],
   "source": [
    "from Bio.SeqRecord import SeqRecord"
   ]
  },
  {
   "cell_type": "code",
   "execution_count": 3,
   "metadata": {},
   "outputs": [],
   "source": [
    "from Bio.Align import MultipleSeqAlignment"
   ]
  },
  {
   "cell_type": "code",
   "execution_count": 14,
   "metadata": {},
   "outputs": [],
   "source": [
    "alignment = MultipleSeqAlignment(\n",
    "    [\n",
    "        SeqRecord(Seq(\"ACTCCTA\"), id= \"seq1\"),\n",
    "        SeqRecord(Seq(\"AAT-CTA\"), id=\"seq2\"),\n",
    "        SeqRecord(Seq(\"CCTACT-\"), id=\"seq3\"),\n",
    "        SeqRecord(Seq(\"TCTCCTC\"), id= \"seq4\"),\n",
    "    ]\n",
    ")"
   ]
  },
  {
   "cell_type": "code",
   "execution_count": 15,
   "metadata": {},
   "outputs": [
    {
     "name": "stdout",
     "output_type": "stream",
     "text": [
      "Alignment with 4 rows and 7 columns\n",
      "ACTCCTA seq1\n",
      "AAT-CTA seq2\n",
      "CCTACT- seq3\n",
      "TCTCCTC seq4\n"
     ]
    }
   ],
   "source": [
    "print(alignment)"
   ]
  },
  {
   "cell_type": "code",
   "execution_count": 16,
   "metadata": {},
   "outputs": [],
   "source": [
    "substitutions = alignment.substitutions"
   ]
  },
  {
   "cell_type": "code",
   "execution_count": 17,
   "metadata": {},
   "outputs": [
    {
     "name": "stdout",
     "output_type": "stream",
     "text": [
      "    A    C    T\n",
      "A 2.0  4.5  1.0\n",
      "C 4.5 10.0  0.5\n",
      "T 1.0  0.5 12.0\n",
      "\n"
     ]
    }
   ],
   "source": [
    "print(substitutions)"
   ]
  },
  {
   "cell_type": "code",
   "execution_count": 18,
   "metadata": {},
   "outputs": [],
   "source": [
    "m= substitutions.select(\"ATCG\")"
   ]
  },
  {
   "cell_type": "code",
   "execution_count": 19,
   "metadata": {},
   "outputs": [
    {
     "name": "stdout",
     "output_type": "stream",
     "text": [
      "    A    T    C   G\n",
      "A 2.0  1.0  4.5 0.0\n",
      "T 1.0 12.0  0.5 0.0\n",
      "C 4.5  0.5 10.0 0.0\n",
      "G 0.0  0.0  0.0 0.0\n",
      "\n"
     ]
    }
   ],
   "source": [
    "print(m)"
   ]
  },
  {
   "cell_type": "code",
   "execution_count": 20,
   "metadata": {},
   "outputs": [],
   "source": [
    "#We can also change orders\n",
    "m= substitutions.select(\"ACTG\")"
   ]
  },
  {
   "cell_type": "code",
   "execution_count": 21,
   "metadata": {},
   "outputs": [
    {
     "name": "stdout",
     "output_type": "stream",
     "text": [
      "    A    C    T   G\n",
      "A 2.0  4.5  1.0 0.0\n",
      "C 4.5 10.0  0.5 0.0\n",
      "T 1.0  0.5 12.0 0.0\n",
      "G 0.0  0.0  0.0 0.0\n",
      "\n"
     ]
    }
   ],
   "source": [
    "print(m)"
   ]
  },
  {
   "cell_type": "code",
   "execution_count": 22,
   "metadata": {},
   "outputs": [],
   "source": [
    "import Bio.Align.Applications"
   ]
  },
  {
   "cell_type": "code",
   "execution_count": 23,
   "metadata": {},
   "outputs": [
    {
     "data": {
      "text/plain": [
       "['ClustalOmegaCommandline',\n",
       " 'ClustalwCommandline',\n",
       " 'DialignCommandline',\n",
       " 'MSAProbsCommandline',\n",
       " 'MafftCommandline',\n",
       " 'MuscleCommandline',\n",
       " 'PrankCommandline',\n",
       " 'ProbconsCommandline',\n",
       " 'TCoffeeCommandline',\n",
       " '_ClustalOmega',\n",
       " '_Clustalw',\n",
       " '_Dialign',\n",
       " '_MSAProbs',\n",
       " '_Mafft',\n",
       " '_Muscle',\n",
       " '_Prank',\n",
       " '_Probcons',\n",
       " '_TCoffee',\n",
       " '__all__',\n",
       " '__builtins__',\n",
       " '__cached__',\n",
       " '__doc__',\n",
       " '__file__',\n",
       " '__loader__',\n",
       " '__name__',\n",
       " '__package__',\n",
       " '__path__',\n",
       " '__spec__']"
      ]
     },
     "execution_count": 23,
     "metadata": {},
     "output_type": "execute_result"
    }
   ],
   "source": [
    "dir(Bio.Align.Applications)"
   ]
  },
  {
   "cell_type": "code",
   "execution_count": 25,
   "metadata": {},
   "outputs": [],
   "source": [
    "from Bio.Align.Applications import ClustalwCommandline"
   ]
  },
  {
   "cell_type": "code",
   "execution_count": 26,
   "metadata": {},
   "outputs": [
    {
     "name": "stdout",
     "output_type": "stream",
     "text": [
      "Help on class ClustalwCommandline in module Bio.Align.Applications._Clustalw:\n",
      "\n",
      "class ClustalwCommandline(Bio.Application.AbstractCommandline)\n",
      " |  ClustalwCommandline(cmd='clustalw', **kwargs)\n",
      " |  \n",
      " |  Command line wrapper for clustalw (version one or two).\n",
      " |  \n",
      " |  http://www.clustal.org/\n",
      " |  \n",
      " |  Notes\n",
      " |  -----\n",
      " |  Last checked against versions: 1.83 and 2.1\n",
      " |  \n",
      " |  References\n",
      " |  ----------\n",
      " |  Larkin MA, Blackshields G, Brown NP, Chenna R, McGettigan PA,\n",
      " |  McWilliam H, Valentin F, Wallace IM, Wilm A, Lopez R, Thompson JD,\n",
      " |  Gibson TJ, Higgins DG. (2007). Clustal W and Clustal X version 2.0.\n",
      " |  Bioinformatics, 23, 2947-2948.\n",
      " |  \n",
      " |  Examples\n",
      " |  --------\n",
      " |  >>> from Bio.Align.Applications import ClustalwCommandline\n",
      " |  >>> in_file = \"unaligned.fasta\"\n",
      " |  >>> clustalw_cline = ClustalwCommandline(\"clustalw2\", infile=in_file)\n",
      " |  >>> print(clustalw_cline)\n",
      " |  clustalw2 -infile=unaligned.fasta\n",
      " |  \n",
      " |  You would typically run the command line with clustalw_cline() or via\n",
      " |  the Python subprocess module, as described in the Biopython tutorial.\n",
      " |  \n",
      " |  Method resolution order:\n",
      " |      ClustalwCommandline\n",
      " |      Bio.Application.AbstractCommandline\n",
      " |      builtins.object\n",
      " |  \n",
      " |  Methods defined here:\n",
      " |  \n",
      " |  __init__(self, cmd='clustalw', **kwargs)\n",
      " |      Initialize the class.\n",
      " |  \n",
      " |  ----------------------------------------------------------------------\n",
      " |  Methods inherited from Bio.Application.AbstractCommandline:\n",
      " |  \n",
      " |  __call__(self, stdin=None, stdout=True, stderr=True, cwd=None, env=None)\n",
      " |      Execute command, wait for it to finish, return (stdout, stderr).\n",
      " |      \n",
      " |      Runs the command line tool and waits for it to finish. If it returns\n",
      " |      a non-zero error level, an exception is raised. Otherwise two strings\n",
      " |      are returned containing stdout and stderr.\n",
      " |      \n",
      " |      The optional stdin argument should be a string of data which will be\n",
      " |      passed to the tool as standard input.\n",
      " |      \n",
      " |      The optional stdout and stderr argument may be filenames (string),\n",
      " |      but otherwise are treated as a booleans, and control if the output\n",
      " |      should be captured as strings (True, default), or ignored by sending\n",
      " |      it to /dev/null to avoid wasting memory (False). If sent to a file\n",
      " |      or ignored, then empty string(s) are returned.\n",
      " |      \n",
      " |      The optional cwd argument is a string giving the working directory\n",
      " |      to run the command from. See Python's subprocess module documentation\n",
      " |      for more details.\n",
      " |      \n",
      " |      The optional env argument is a dictionary setting the environment\n",
      " |      variables to be used in the new process. By default the current\n",
      " |      process' environment variables are used. See Python's subprocess\n",
      " |      module documentation for more details.\n",
      " |      \n",
      " |      Default example usage::\n",
      " |      \n",
      " |          from Bio.Emboss.Applications import WaterCommandline\n",
      " |          water_cmd = WaterCommandline(gapopen=10, gapextend=0.5,\n",
      " |                                       stdout=True, auto=True,\n",
      " |                                       asequence=\"a.fasta\", bsequence=\"b.fasta\")\n",
      " |          print(\"About to run: %s\" % water_cmd)\n",
      " |          std_output, err_output = water_cmd()\n",
      " |      \n",
      " |      This functionality is similar to subprocess.check_output(). In general\n",
      " |      if you require more control over running the command, use subprocess\n",
      " |      directly.\n",
      " |      \n",
      " |      When the program called returns a non-zero error level, a custom\n",
      " |      ApplicationError exception is raised. This includes any stdout and\n",
      " |      stderr strings captured as attributes of the exception object, since\n",
      " |      they may be useful for diagnosing what went wrong.\n",
      " |  \n",
      " |  __repr__(self)\n",
      " |      Return a representation of the command line object for debugging.\n",
      " |      \n",
      " |      e.g.\n",
      " |      \n",
      " |      >>> from Bio.Emboss.Applications import WaterCommandline\n",
      " |      >>> cline = WaterCommandline(gapopen=10, gapextend=0.5)\n",
      " |      >>> cline.asequence = \"asis:ACCCGGGCGCGGT\"\n",
      " |      >>> cline.bsequence = \"asis:ACCCGAGCGCGGT\"\n",
      " |      >>> cline.outfile = \"temp_water.txt\"\n",
      " |      >>> print(cline)\n",
      " |      water -outfile=temp_water.txt -asequence=asis:ACCCGGGCGCGGT -bsequence=asis:ACCCGAGCGCGGT -gapopen=10 -gapextend=0.5\n",
      " |      >>> cline\n",
      " |      WaterCommandline(cmd='water', outfile='temp_water.txt', asequence='asis:ACCCGGGCGCGGT', bsequence='asis:ACCCGAGCGCGGT', gapopen=10, gapextend=0.5)\n",
      " |  \n",
      " |  __setattr__(self, name, value)\n",
      " |      Set attribute name to value (PRIVATE).\n",
      " |      \n",
      " |      This code implements a workaround for a user interface issue.\n",
      " |      Without this __setattr__ attribute-based assignment of parameters\n",
      " |      will silently accept invalid parameters, leading to known instances\n",
      " |      of the user assuming that parameters for the application are set,\n",
      " |      when they are not.\n",
      " |      \n",
      " |      >>> from Bio.Emboss.Applications import WaterCommandline\n",
      " |      >>> cline = WaterCommandline(gapopen=10, gapextend=0.5, stdout=True)\n",
      " |      >>> cline.asequence = \"a.fasta\"\n",
      " |      >>> cline.bsequence = \"b.fasta\"\n",
      " |      >>> cline.csequence = \"c.fasta\"\n",
      " |      Traceback (most recent call last):\n",
      " |      ...\n",
      " |      ValueError: Option name csequence was not found.\n",
      " |      >>> print(cline)\n",
      " |      water -stdout -asequence=a.fasta -bsequence=b.fasta -gapopen=10 -gapextend=0.5\n",
      " |      \n",
      " |      This workaround uses a whitelist of object attributes, and sets the\n",
      " |      object attribute list as normal, for these.  Other attributes are\n",
      " |      assumed to be parameters, and passed to the self.set_parameter method\n",
      " |      for validation and assignment.\n",
      " |  \n",
      " |  __str__(self)\n",
      " |      Make the commandline string with the currently set options.\n",
      " |      \n",
      " |      e.g.\n",
      " |      \n",
      " |      >>> from Bio.Emboss.Applications import WaterCommandline\n",
      " |      >>> cline = WaterCommandline(gapopen=10, gapextend=0.5)\n",
      " |      >>> cline.asequence = \"asis:ACCCGGGCGCGGT\"\n",
      " |      >>> cline.bsequence = \"asis:ACCCGAGCGCGGT\"\n",
      " |      >>> cline.outfile = \"temp_water.txt\"\n",
      " |      >>> print(cline)\n",
      " |      water -outfile=temp_water.txt -asequence=asis:ACCCGGGCGCGGT -bsequence=asis:ACCCGAGCGCGGT -gapopen=10 -gapextend=0.5\n",
      " |      >>> str(cline)\n",
      " |      'water -outfile=temp_water.txt -asequence=asis:ACCCGGGCGCGGT -bsequence=asis:ACCCGAGCGCGGT -gapopen=10 -gapextend=0.5'\n",
      " |  \n",
      " |  set_parameter(self, name, value=None)\n",
      " |      Set a commandline option for a program (OBSOLETE).\n",
      " |      \n",
      " |      Every parameter is available via a property and as a named\n",
      " |      keyword when creating the instance. Using either of these is\n",
      " |      preferred to this legacy set_parameter method which is now\n",
      " |      OBSOLETE, and likely to be DEPRECATED and later REMOVED in\n",
      " |      future releases.\n",
      " |  \n",
      " |  ----------------------------------------------------------------------\n",
      " |  Data descriptors inherited from Bio.Application.AbstractCommandline:\n",
      " |  \n",
      " |  __dict__\n",
      " |      dictionary for instance variables (if defined)\n",
      " |  \n",
      " |  __weakref__\n",
      " |      list of weak references to the object (if defined)\n",
      " |  \n",
      " |  ----------------------------------------------------------------------\n",
      " |  Data and other attributes inherited from Bio.Application.AbstractCommandline:\n",
      " |  \n",
      " |  parameters = None\n",
      "\n"
     ]
    }
   ],
   "source": [
    "help(ClustalwCommandline)"
   ]
  },
  {
   "cell_type": "code",
   "execution_count": null,
   "metadata": {},
   "outputs": [],
   "source": [
    "#https://raw.githubusercontent.com/biopython/biopython/master/Doc/examples/opuntia.aln\n",
    "    "
   ]
  },
  {
   "cell_type": "code",
   "execution_count": 28,
   "metadata": {},
   "outputs": [],
   "source": [
    "from Bio import AlignIO"
   ]
  },
  {
   "cell_type": "code",
   "execution_count": 29,
   "metadata": {},
   "outputs": [],
   "source": [
    "align= AlignIO.read (\"opuntia.aln.txt\",\"clustal\")"
   ]
  },
  {
   "cell_type": "code",
   "execution_count": 30,
   "metadata": {},
   "outputs": [
    {
     "name": "stdout",
     "output_type": "stream",
     "text": [
      "Alignment with 7 rows and 906 columns\n",
      "TATACATTAAAGAAGGGGGATGCGGATAAATGGAAAGGCGAAAG...AGA gi|6273285|gb|AF191659.1|AF191\n",
      "TATACATTAAAGAAGGGGGATGCGGATAAATGGAAAGGCGAAAG...AGA gi|6273284|gb|AF191658.1|AF191\n",
      "TATACATTAAAGAAGGGGGATGCGGATAAATGGAAAGGCGAAAG...AGA gi|6273287|gb|AF191661.1|AF191\n",
      "TATACATAAAAGAAGGGGGATGCGGATAAATGGAAAGGCGAAAG...AGA gi|6273286|gb|AF191660.1|AF191\n",
      "TATACATTAAAGGAGGGGGATGCGGATAAATGGAAAGGCGAAAG...AGA gi|6273290|gb|AF191664.1|AF191\n",
      "TATACATTAAAGGAGGGGGATGCGGATAAATGGAAAGGCGAAAG...AGA gi|6273289|gb|AF191663.1|AF191\n",
      "TATACATTAAAGGAGGGGGATGCGGATAAATGGAAAGGCGAAAG...AGA gi|6273291|gb|AF191665.1|AF191\n"
     ]
    }
   ],
   "source": [
    "print (align)"
   ]
  },
  {
   "cell_type": "code",
   "execution_count": 31,
   "metadata": {},
   "outputs": [],
   "source": [
    "# We can also make a tree\n",
    "from Bio import Phylo"
   ]
  },
  {
   "cell_type": "code",
   "execution_count": 34,
   "metadata": {},
   "outputs": [],
   "source": [
    "tree= Phylo.read(\"opuntia.dnd.txt\", \"newick\")"
   ]
  },
  {
   "cell_type": "code",
   "execution_count": 36,
   "metadata": {},
   "outputs": [
    {
     "name": "stdout",
     "output_type": "stream",
     "text": [
      "                             _______________ gi|6273291|gb|AF191665.1|AF191665\n",
      "  __________________________|\n",
      " |                          |   ______ gi|6273290|gb|AF191664.1|AF191664\n",
      " |                          |__|\n",
      " |                             |_____ gi|6273289|gb|AF191663.1|AF191663\n",
      " |\n",
      "_|_________________ gi|6273287|gb|AF191661.1|AF191661\n",
      " |\n",
      " |__________ gi|6273286|gb|AF191660.1|AF191660\n",
      " |\n",
      " |    __ gi|6273285|gb|AF191659.1|AF191659\n",
      " |___|\n",
      "     | gi|6273284|gb|AF191658.1|AF191658\n",
      "\n"
     ]
    }
   ],
   "source": [
    "Phylo.draw_ascii(tree)"
   ]
  },
  {
   "cell_type": "code",
   "execution_count": null,
   "metadata": {},
   "outputs": [],
   "source": []
  }
 ],
 "metadata": {
  "kernelspec": {
   "display_name": "Python 3",
   "language": "python",
   "name": "python3"
  },
  "language_info": {
   "codemirror_mode": {
    "name": "ipython",
    "version": 3
   },
   "file_extension": ".py",
   "mimetype": "text/x-python",
   "name": "python",
   "nbconvert_exporter": "python",
   "pygments_lexer": "ipython3",
   "version": "3.7.4"
  }
 },
 "nbformat": 4,
 "nbformat_minor": 4
}
